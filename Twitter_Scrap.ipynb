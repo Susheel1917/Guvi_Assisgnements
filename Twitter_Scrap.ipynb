{
 "cells": [
  {
   "cell_type": "code",
   "execution_count": null,
   "id": "79ac1c55",
   "metadata": {
    "scrolled": false
   },
   "outputs": [],
   "source": []
  },
  {
   "cell_type": "code",
   "execution_count": 1,
   "id": "0b0a976c",
   "metadata": {},
   "outputs": [],
   "source": [
    "import pandas as pd\n",
    "import snscrape.modules.twitter as sntwitter\n",
    "import pymongo\n",
    "from datetime import datetime"
   ]
  },
  {
   "cell_type": "code",
   "execution_count": 2,
   "id": "b04be661",
   "metadata": {},
   "outputs": [],
   "source": [
    "def scrape_tweets(keyword, start_date, end_date, tweet_limit):\n",
    "    \n",
    "    tweets_list = []\n",
    "    query = f\"{keyword} since:{start_date} until:{end_date}\"\n",
    "    for i, tweet in enumerate(sntwitter.TwitterSearchScraper(query).get_items()):\n",
    "        if i >= tweet_limit:\n",
    "            break\n",
    "        tweets_list.append([tweet.date, tweet.id, tweet.url, tweet.content, tweet.user.username,\n",
    "                            tweet.replyCount, tweet.retweetCount, tweet.lang, tweet.source, tweet.likeCount])\n",
    "    df = pd.DataFrame(tweets_list, columns=['Date', 'ID', 'URL', 'Content', 'User', 'Reply Count',\n",
    "                                            'Retweet Count', 'Language', 'Source', 'Like Count'])\n",
    "    return df\n"
   ]
  },
  {
   "cell_type": "code",
   "execution_count": 3,
   "id": "5703b56f",
   "metadata": {},
   "outputs": [],
   "source": [
    "def store_data_mongodb(keyword, scraped_data):\n",
    "   client = pymongo.MongoClient(\"mongodb://localhost:27017/\")\n",
    "   db = client[\"twitter_data\"]\n",
    "   collection = db[keyword]\n",
    "   collection.insert_many(scraped_data.to_dict('records'))\n"
   ]
  },
  {
   "cell_type": "code",
   "execution_count": 4,
   "id": "8aca8477",
   "metadata": {},
   "outputs": [],
   "source": [
    "import streamlit as st\n",
    "def app():\n",
    "    # Set the title\n",
    "    st.title(\"Twitter Scraper\")\n",
    "    # Get the keyword input from the user\n",
    "    keyword = st.text_input(\"Enter a keyword or hashtag to search:\")\n",
    "    \n",
    "    # Get the start and end date range input from the user\n",
    "    start_date = st.date_input(\"Enter the start date:\")\n",
    "    end_date = st.date_input(\"Enter the end date:\")\n",
    "    \n",
    "    # Get the tweet limit input from the user\n",
    "    tweet_limit = st.slider(\"Enter the number of tweets to scrape:\", min_value=100, max_value=1000, step=100)\n",
    "    \n",
    "    # Display a progress bar while scraping the tweets\n",
    "    progress_bar = st.progress(0)\n",
    "    \n",
    "    # Scrape the tweets\n",
    "    scraped_data = scrape_tweets(keyword, start_date, end_date, tweet_limit)\n",
    "    \n",
    "    # Update the progress bar\n",
    "    progress_bar.progress(100)\n",
    "    \n",
    "    # Display the scraped data in a table\n",
    "    st.write(scraped_data)\n",
    "    \n",
    "    # Add a button to store the data into MongoDB\n",
    "    if st.button(\"Store Data into MongoDB\"):\n",
    "        store_data_mongodb(keyword, scraped_data)\n",
    "        st.success(\"Data stored successfully!\")\n",
    "    \n",
    "    # Add a button to download the data into CSV format\n",
    "    if st.button(\"Download Data as CSV\"):\n",
    "        csv = scraped_data.to_csv(index=False)\n",
    "        st.download_button( data,label=\"Download CSV\")\n"
   ]
  },
  {
   "cell_type": "code",
   "execution_count": null,
   "id": "92fcb5d6",
   "metadata": {},
   "outputs": [],
   "source": []
  },
  {
   "cell_type": "code",
   "execution_count": null,
   "id": "94bd9a0d",
   "metadata": {},
   "outputs": [],
   "source": []
  }
 ],
 "metadata": {
  "kernelspec": {
   "display_name": "Python 3 (ipykernel)",
   "language": "python",
   "name": "python3"
  },
  "language_info": {
   "codemirror_mode": {
    "name": "ipython",
    "version": 3
   },
   "file_extension": ".py",
   "mimetype": "text/x-python",
   "name": "python",
   "nbconvert_exporter": "python",
   "pygments_lexer": "ipython3",
   "version": "3.9.13"
  }
 },
 "nbformat": 4,
 "nbformat_minor": 5
}
